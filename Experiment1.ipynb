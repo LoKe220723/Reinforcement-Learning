{
  "nbformat": 4,
  "nbformat_minor": 0,
  "metadata": {
    "colab": {
      "provenance": [],
      "authorship_tag": "ABX9TyPh/ibYZG5foYEQn18tmbWv",
      "include_colab_link": true
    },
    "kernelspec": {
      "name": "python3",
      "display_name": "Python 3"
    },
    "language_info": {
      "name": "python"
    }
  },
  "cells": [
    {
      "cell_type": "markdown",
      "metadata": {
        "id": "view-in-github",
        "colab_type": "text"
      },
      "source": [
        "<a href=\"https://colab.research.google.com/github/LoKe220723/Reinforcement-Learning/blob/main/Experiment1.ipynb\" target=\"_parent\"><img src=\"https://colab.research.google.com/assets/colab-badge.svg\" alt=\"Open In Colab\"/></a>"
      ]
    },
    {
      "cell_type": "code",
      "execution_count": 7,
      "metadata": {
        "colab": {
          "base_uri": "https://localhost:8080/"
        },
        "id": "H0xP0QpHrid8",
        "outputId": "535db404-6b0e-4612-e0b7-b1039acdc5ac"
      },
      "outputs": [
        {
          "output_type": "stream",
          "name": "stdout",
          "text": [
            "[1, 1, 2, 3, 6, 8, 10]\n"
          ]
        }
      ],
      "source": [
        "def quicksort(arr):\n",
        "  if len(arr) <= 1:\n",
        "      return arr\n",
        "  pivot = arr[len(arr)//2]\n",
        "  left = [x for x in arr if x < pivot]\n",
        "  middle = [x for x in arr if x == pivot]\n",
        "  right = [x for x in arr if x > pivot]\n",
        "  return quicksort(left) + middle + quicksort(right)\n",
        "print(quicksort([3,6,8,10,1,2,1]))"
      ]
    },
    {
      "cell_type": "code",
      "source": [
        "a=10//2\n",
        "a"
      ],
      "metadata": {
        "colab": {
          "base_uri": "https://localhost:8080/"
        },
        "id": "EBaHqRcwtP5Z",
        "outputId": "88d21baa-3aae-44d5-ec41-f3f50a30df6a"
      },
      "execution_count": 5,
      "outputs": [
        {
          "output_type": "execute_result",
          "data": {
            "text/plain": [
              "5"
            ]
          },
          "metadata": {},
          "execution_count": 5
        }
      ]
    },
    {
      "cell_type": "code",
      "source": [
        "a=10/2\n",
        "a\n"
      ],
      "metadata": {
        "colab": {
          "base_uri": "https://localhost:8080/"
        },
        "id": "kVnFVPnmtzLU",
        "outputId": "d17f26fb-42df-4022-f239-6204ff53eef0"
      },
      "execution_count": 8,
      "outputs": [
        {
          "output_type": "execute_result",
          "data": {
            "text/plain": [
              "5.0"
            ]
          },
          "metadata": {},
          "execution_count": 8
        }
      ]
    },
    {
      "cell_type": "code",
      "source": [
        "x = 30\n",
        "print(x,type(x))"
      ],
      "metadata": {
        "colab": {
          "base_uri": "https://localhost:8080/"
        },
        "id": "Gj3DVq6ct2Zs",
        "outputId": "a8f56845-af16-4b64-e5bd-6c1a20f6fdc6"
      },
      "execution_count": 10,
      "outputs": [
        {
          "output_type": "stream",
          "name": "stdout",
          "text": [
            "30 <class 'int'>\n"
          ]
        }
      ]
    },
    {
      "cell_type": "code",
      "source": [
        "print(x+1)\n",
        "print(x-1)\n",
        "print(x*2)\n",
        "print(x**2)"
      ],
      "metadata": {
        "colab": {
          "base_uri": "https://localhost:8080/"
        },
        "id": "tjwMFLU3ueuf",
        "outputId": "8a08bea7-99b2-44b7-c5d3-b20c34f3cc32"
      },
      "execution_count": 11,
      "outputs": [
        {
          "output_type": "stream",
          "name": "stdout",
          "text": [
            "31\n",
            "29\n",
            "60\n",
            "900\n"
          ]
        }
      ]
    },
    {
      "cell_type": "code",
      "source": [
        "x+=1\n",
        "print(x)\n",
        "x*=2\n",
        "print(x)"
      ],
      "metadata": {
        "colab": {
          "base_uri": "https://localhost:8080/"
        },
        "id": "vhTwL87lwF4x",
        "outputId": "260a21c9-ca8e-4898-fbf2-ea875da884c8"
      },
      "execution_count": 13,
      "outputs": [
        {
          "output_type": "stream",
          "name": "stdout",
          "text": [
            "31\n",
            "62\n"
          ]
        }
      ]
    },
    {
      "cell_type": "code",
      "source": [
        "y=2.5\n",
        "print(type(y))\n",
        "print(y,y+1,y*2,y**2)"
      ],
      "metadata": {
        "colab": {
          "base_uri": "https://localhost:8080/"
        },
        "id": "5GB7UGeYvDl1",
        "outputId": "9e46586e-47c1-413e-f369-8f34a4d16b69"
      },
      "execution_count": 12,
      "outputs": [
        {
          "output_type": "stream",
          "name": "stdout",
          "text": [
            "<class 'float'>\n",
            "2.5 3.5 5.0 6.25\n"
          ]
        }
      ]
    },
    {
      "cell_type": "code",
      "source": [
        "z= 6055500.1011\n",
        "print(type(z))"
      ],
      "metadata": {
        "colab": {
          "base_uri": "https://localhost:8080/"
        },
        "id": "-g75tzX2wDv_",
        "outputId": "19bc53b4-5fb4-4fc9-eab1-3fe1cc4faabc"
      },
      "execution_count": 16,
      "outputs": [
        {
          "output_type": "stream",
          "name": "stdout",
          "text": [
            "<class 'float'>\n"
          ]
        }
      ]
    },
    {
      "cell_type": "code",
      "source": [
        "t,f= True, False\n",
        "print(type(t))"
      ],
      "metadata": {
        "colab": {
          "base_uri": "https://localhost:8080/"
        },
        "id": "fS6pPj6GwbKX",
        "outputId": "300ad3db-2487-4ed7-9573-4e25c92eb4cc"
      },
      "execution_count": 17,
      "outputs": [
        {
          "output_type": "stream",
          "name": "stdout",
          "text": [
            "<class 'bool'>\n"
          ]
        }
      ]
    },
    {
      "cell_type": "code",
      "source": [
        "print( t and f)\n",
        "print( t or f)\n",
        "print( not f)\n",
        "print( t != f)"
      ],
      "metadata": {
        "colab": {
          "base_uri": "https://localhost:8080/"
        },
        "id": "Psbn2nDGwx0C",
        "outputId": "16e75b5c-8c18-4fa0-c056-372266a6b24f"
      },
      "execution_count": 18,
      "outputs": [
        {
          "output_type": "stream",
          "name": "stdout",
          "text": [
            "False\n",
            "True\n",
            "True\n",
            "True\n"
          ]
        }
      ]
    },
    {
      "cell_type": "code",
      "source": [
        "s1 = 'Lokesh'\n",
        "s2 = \"Sharma\"\n",
        "print(s1, len(s2))"
      ],
      "metadata": {
        "colab": {
          "base_uri": "https://localhost:8080/"
        },
        "id": "OCRNriEhxOxy",
        "outputId": "981ae478-8191-498d-da32-6418e4eaa5c8"
      },
      "execution_count": 21,
      "outputs": [
        {
          "output_type": "stream",
          "name": "stdout",
          "text": [
            "Lokesh 6\n"
          ]
        }
      ]
    },
    {
      "cell_type": "code",
      "source": [
        "\n",
        "Ls = s1 + ' '+s2\n",
        "print(Ls)"
      ],
      "metadata": {
        "colab": {
          "base_uri": "https://localhost:8080/"
        },
        "id": "NEc97ltPx9ph",
        "outputId": "dd181a20-f229-4f05-fc01-8838e8404d68"
      },
      "execution_count": 23,
      "outputs": [
        {
          "output_type": "stream",
          "name": "stdout",
          "text": [
            "Lokesh Sharma\n"
          ]
        }
      ]
    },
    {
      "cell_type": "code",
      "source": [
        "print(len(Ls))"
      ],
      "metadata": {
        "colab": {
          "base_uri": "https://localhost:8080/"
        },
        "id": "yEKyCYg4yRoO",
        "outputId": "c84e3ada-d3d3-4ba9-9bee-10741078a43c"
      },
      "execution_count": 24,
      "outputs": [
        {
          "output_type": "stream",
          "name": "stdout",
          "text": [
            "13\n"
          ]
        }
      ]
    },
    {
      "cell_type": "code",
      "source": [
        "hw12 = '{} {}'.format(s1,s2)\n",
        "print(hw12)\n",
        "print(len(hw12),12,14,14)"
      ],
      "metadata": {
        "colab": {
          "base_uri": "https://localhost:8080/"
        },
        "id": "seQ6b9ZeykZj",
        "outputId": "e7674d77-4e4d-46f1-ee42-ddd7c39779a8"
      },
      "execution_count": 36,
      "outputs": [
        {
          "output_type": "stream",
          "name": "stdout",
          "text": [
            "Lokesh Sharma\n",
            "13 12 14 14\n"
          ]
        }
      ]
    },
    {
      "cell_type": "code",
      "source": [
        "T = 'player '\n",
        "print(T.capitalize())\n",
        "print(T.upper())\n",
        "print(T.rjust(7))\n",
        "print(T.center(7))\n",
        "print(T.replace('1','2'))\n",
        "print(' troops '.strip())"
      ],
      "metadata": {
        "colab": {
          "base_uri": "https://localhost:8080/"
        },
        "id": "zDvnn-IazbaZ",
        "outputId": "8799ff23-9457-42c9-dad1-851c72c588e4"
      },
      "execution_count": 47,
      "outputs": [
        {
          "output_type": "stream",
          "name": "stdout",
          "text": [
            "Player\n",
            "PLAYER\n",
            " player\n",
            " player\n",
            "player\n",
            "troops\n"
          ]
        }
      ]
    },
    {
      "cell_type": "code",
      "source": [
        "R = 'machine learning'\n",
        "print(R.capitalize())\n",
        "print(R.title())"
      ],
      "metadata": {
        "colab": {
          "base_uri": "https://localhost:8080/"
        },
        "id": "7H0vfkwN1WyV",
        "outputId": "ad54bc96-50af-4adf-cdda-5ba3bfccf909"
      },
      "execution_count": 50,
      "outputs": [
        {
          "output_type": "stream",
          "name": "stdout",
          "text": [
            "Machine learning\n",
            "Machine Learning\n"
          ]
        }
      ]
    },
    {
      "cell_type": "markdown",
      "source": [
        "***LIST***"
      ],
      "metadata": {
        "id": "g0t3a-fy38H2"
      }
    },
    {
      "cell_type": "code",
      "source": [
        "xs = [3,1,2,4]\n",
        "print(xs,xs[2])\n",
        "print(xs[-4])\n",
        "xs.append('bar')\n",
        "print(xs)"
      ],
      "metadata": {
        "colab": {
          "base_uri": "https://localhost:8080/"
        },
        "id": "ShRyFIUn4ASk",
        "outputId": "53e9f808-09d4-4ea1-ce1d-bdf63e145023"
      },
      "execution_count": 63,
      "outputs": [
        {
          "output_type": "stream",
          "name": "stdout",
          "text": [
            "[3, 1, 2, 4] 2\n",
            "3\n",
            "[3, 1, 2, 4, 'bar']\n"
          ]
        }
      ]
    },
    {
      "cell_type": "code",
      "source": [
        "x=xs.pop(3)\n",
        "x,xs"
      ],
      "metadata": {
        "colab": {
          "base_uri": "https://localhost:8080/"
        },
        "id": "sZsgaXiF5HQ-",
        "outputId": "bac918cf-6b9a-43d9-bf6d-d9321af23460"
      },
      "execution_count": 64,
      "outputs": [
        {
          "output_type": "execute_result",
          "data": {
            "text/plain": [
              "(4, [3, 1, 2, 'bar'])"
            ]
          },
          "metadata": {},
          "execution_count": 64
        }
      ]
    },
    {
      "cell_type": "code",
      "source": [
        "nums= list(range(10))\n",
        "print(nums)\n",
        "print(nums[2:4])\n",
        "print(nums[2:])\n",
        "print(nums[:])\n",
        "print(nums[:2])\n",
        "print(nums[:-1])\n",
        "nums[2:4]= [8,9]\n",
        "print(nums)"
      ],
      "metadata": {
        "colab": {
          "base_uri": "https://localhost:8080/"
        },
        "id": "_KonikWJ5tJZ",
        "outputId": "2fb2d6fc-3e57-4a77-93ad-a4a58bd582b0"
      },
      "execution_count": 69,
      "outputs": [
        {
          "output_type": "stream",
          "name": "stdout",
          "text": [
            "[0, 1, 2, 3, 4, 5, 6, 7, 8, 9]\n",
            "[2, 3]\n",
            "[2, 3, 4, 5, 6, 7, 8, 9]\n",
            "[0, 1, 2, 3, 4, 5, 6, 7, 8, 9]\n",
            "[0, 1]\n",
            "[0, 1, 2, 3, 4, 5, 6, 7, 8]\n",
            "[0, 1, 8, 9, 4, 5, 6, 7, 8, 9]\n"
          ]
        }
      ]
    },
    {
      "cell_type": "code",
      "source": [],
      "metadata": {
        "id": "kHp20e5I7cjL"
      },
      "execution_count": null,
      "outputs": []
    },
    {
      "cell_type": "markdown",
      "source": [
        "***LOOP***"
      ],
      "metadata": {
        "id": "KPJ-zsIb8yfj"
      }
    },
    {
      "cell_type": "code",
      "source": [
        "animals = ['cat','dog','monkey']\n",
        "for x in animals:\n",
        "  print(x)"
      ],
      "metadata": {
        "colab": {
          "base_uri": "https://localhost:8080/"
        },
        "id": "mh6AWqlk814w",
        "outputId": "0af33219-596d-4de8-b14b-9c62c57046c6"
      },
      "execution_count": 70,
      "outputs": [
        {
          "output_type": "stream",
          "name": "stdout",
          "text": [
            "cat\n",
            "dog\n",
            "monkey\n"
          ]
        }
      ]
    },
    {
      "cell_type": "code",
      "source": [
        "animals = ['cat','dog','monkey']\n",
        "for idx,x in enumerate(animals):\n",
        "  print('#{} {}'.format(idx + 1, x))"
      ],
      "metadata": {
        "colab": {
          "base_uri": "https://localhost:8080/"
        },
        "id": "izLRhaRQ9UBk",
        "outputId": "c103a6a6-e5c5-4c41-8827-322730e21378"
      },
      "execution_count": 73,
      "outputs": [
        {
          "output_type": "stream",
          "name": "stdout",
          "text": [
            "#1 cat\n",
            "#2 dog\n",
            "#3 monkey\n"
          ]
        }
      ]
    },
    {
      "cell_type": "code",
      "source": [],
      "metadata": {
        "id": "_CCPy1kq96uo"
      },
      "execution_count": null,
      "outputs": []
    },
    {
      "cell_type": "markdown",
      "source": [
        "LIST COMPREHESION"
      ],
      "metadata": {
        "id": "S94n5m75-Jep"
      }
    },
    {
      "cell_type": "code",
      "source": [],
      "metadata": {
        "id": "EieQKfgQ-eek"
      },
      "execution_count": null,
      "outputs": []
    }
  ]
}